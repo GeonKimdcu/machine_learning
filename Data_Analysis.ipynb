{
 "cells": [
  {
   "cell_type": "code",
   "execution_count": 1,
   "metadata": {},
   "outputs": [],
   "source": [
    "import pandas as pd\n",
    "import numpy as np"
   ]
  },
  {
   "cell_type": "code",
   "execution_count": 2,
   "metadata": {},
   "outputs": [],
   "source": [
    "# 지수 표현 제거\n",
    "pd.options.display.float_format = '{:.5f}'.format"
   ]
  },
  {
   "cell_type": "code",
   "execution_count": 3,
   "metadata": {
    "scrolled": false
   },
   "outputs": [
    {
     "data": {
      "text/html": [
       "<div>\n",
       "<style scoped>\n",
       "    .dataframe tbody tr th:only-of-type {\n",
       "        vertical-align: middle;\n",
       "    }\n",
       "\n",
       "    .dataframe tbody tr th {\n",
       "        vertical-align: top;\n",
       "    }\n",
       "\n",
       "    .dataframe thead th {\n",
       "        text-align: right;\n",
       "    }\n",
       "</style>\n",
       "<table border=\"1\" class=\"dataframe\">\n",
       "  <thead>\n",
       "    <tr style=\"text-align: right;\">\n",
       "      <th></th>\n",
       "      <th>Max</th>\n",
       "      <th>Mean</th>\n",
       "      <th>Std</th>\n",
       "      <th>FFT_Mag1</th>\n",
       "      <th>FFT_Hz1</th>\n",
       "      <th>FFT_Mag2</th>\n",
       "      <th>FFT_Hz2</th>\n",
       "      <th>STFT_Mag1</th>\n",
       "      <th>STFT_Hz1</th>\n",
       "      <th>STFT_Mag2</th>\n",
       "      <th>STFT_Hz2</th>\n",
       "      <th>STFT_diff</th>\n",
       "      <th>label</th>\n",
       "    </tr>\n",
       "  </thead>\n",
       "  <tbody>\n",
       "    <tr>\n",
       "      <th>0</th>\n",
       "      <td>0.25965</td>\n",
       "      <td>0.00527</td>\n",
       "      <td>0.14480</td>\n",
       "      <td>0.02436</td>\n",
       "      <td>1000488.75855</td>\n",
       "      <td>0.01515</td>\n",
       "      <td>1000977.51711</td>\n",
       "      <td>0.04856</td>\n",
       "      <td>0.00000</td>\n",
       "      <td>0.02362</td>\n",
       "      <td>761718.75000</td>\n",
       "      <td>-761718.75000</td>\n",
       "      <td>0</td>\n",
       "    </tr>\n",
       "    <tr>\n",
       "      <th>1</th>\n",
       "      <td>0.26263</td>\n",
       "      <td>0.00334</td>\n",
       "      <td>0.14480</td>\n",
       "      <td>0.03535</td>\n",
       "      <td>1000488.75855</td>\n",
       "      <td>0.01261</td>\n",
       "      <td>1334799.60899</td>\n",
       "      <td>0.05855</td>\n",
       "      <td>0.00000</td>\n",
       "      <td>0.02980</td>\n",
       "      <td>3515625.00000</td>\n",
       "      <td>-3515625.00000</td>\n",
       "      <td>0</td>\n",
       "    </tr>\n",
       "    <tr>\n",
       "      <th>2</th>\n",
       "      <td>0.25702</td>\n",
       "      <td>0.01063</td>\n",
       "      <td>0.14856</td>\n",
       "      <td>0.02626</td>\n",
       "      <td>1000488.75855</td>\n",
       "      <td>0.01876</td>\n",
       "      <td>1000977.51711</td>\n",
       "      <td>0.06945</td>\n",
       "      <td>0.00000</td>\n",
       "      <td>0.02619</td>\n",
       "      <td>2714843.75000</td>\n",
       "      <td>-2714843.75000</td>\n",
       "      <td>0</td>\n",
       "    </tr>\n",
       "    <tr>\n",
       "      <th>3</th>\n",
       "      <td>0.26208</td>\n",
       "      <td>0.00340</td>\n",
       "      <td>0.14493</td>\n",
       "      <td>0.02686</td>\n",
       "      <td>1000488.75855</td>\n",
       "      <td>0.01511</td>\n",
       "      <td>1001466.27566</td>\n",
       "      <td>0.05290</td>\n",
       "      <td>0.00000</td>\n",
       "      <td>0.02466</td>\n",
       "      <td>957031.25000</td>\n",
       "      <td>-957031.25000</td>\n",
       "      <td>0</td>\n",
       "    </tr>\n",
       "    <tr>\n",
       "      <th>4</th>\n",
       "      <td>0.26085</td>\n",
       "      <td>0.00035</td>\n",
       "      <td>0.14501</td>\n",
       "      <td>0.02429</td>\n",
       "      <td>1000488.75855</td>\n",
       "      <td>0.01518</td>\n",
       "      <td>1001466.27566</td>\n",
       "      <td>0.05557</td>\n",
       "      <td>0.00000</td>\n",
       "      <td>0.02488</td>\n",
       "      <td>0.00000</td>\n",
       "      <td>0.00000</td>\n",
       "      <td>0</td>\n",
       "    </tr>\n",
       "    <tr>\n",
       "      <th>5</th>\n",
       "      <td>0.26219</td>\n",
       "      <td>0.00845</td>\n",
       "      <td>0.14112</td>\n",
       "      <td>0.01860</td>\n",
       "      <td>1000488.75855</td>\n",
       "      <td>0.01557</td>\n",
       "      <td>1412023.46041</td>\n",
       "      <td>0.03502</td>\n",
       "      <td>0.00000</td>\n",
       "      <td>0.02325</td>\n",
       "      <td>2500000.00000</td>\n",
       "      <td>-2500000.00000</td>\n",
       "      <td>0</td>\n",
       "    </tr>\n",
       "    <tr>\n",
       "      <th>6</th>\n",
       "      <td>0.26255</td>\n",
       "      <td>0.01018</td>\n",
       "      <td>0.14235</td>\n",
       "      <td>0.02065</td>\n",
       "      <td>1000488.75855</td>\n",
       "      <td>0.01492</td>\n",
       "      <td>1000000.00000</td>\n",
       "      <td>0.04690</td>\n",
       "      <td>0.00000</td>\n",
       "      <td>0.02319</td>\n",
       "      <td>0.00000</td>\n",
       "      <td>0.00000</td>\n",
       "      <td>0</td>\n",
       "    </tr>\n",
       "    <tr>\n",
       "      <th>7</th>\n",
       "      <td>0.26176</td>\n",
       "      <td>0.00619</td>\n",
       "      <td>0.14468</td>\n",
       "      <td>0.02827</td>\n",
       "      <td>1000488.75855</td>\n",
       "      <td>0.01480</td>\n",
       "      <td>1000977.51711</td>\n",
       "      <td>0.05583</td>\n",
       "      <td>0.00000</td>\n",
       "      <td>0.02621</td>\n",
       "      <td>449218.75000</td>\n",
       "      <td>-449218.75000</td>\n",
       "      <td>0</td>\n",
       "    </tr>\n",
       "    <tr>\n",
       "      <th>8</th>\n",
       "      <td>0.26058</td>\n",
       "      <td>0.00054</td>\n",
       "      <td>0.14156</td>\n",
       "      <td>0.02153</td>\n",
       "      <td>1000488.75855</td>\n",
       "      <td>0.01353</td>\n",
       "      <td>1279081.13392</td>\n",
       "      <td>0.05226</td>\n",
       "      <td>0.00000</td>\n",
       "      <td>0.02388</td>\n",
       "      <td>0.00000</td>\n",
       "      <td>0.00000</td>\n",
       "      <td>0</td>\n",
       "    </tr>\n",
       "    <tr>\n",
       "      <th>9</th>\n",
       "      <td>0.26101</td>\n",
       "      <td>0.00508</td>\n",
       "      <td>0.14566</td>\n",
       "      <td>0.02750</td>\n",
       "      <td>1000488.75855</td>\n",
       "      <td>0.01427</td>\n",
       "      <td>1231671.55425</td>\n",
       "      <td>0.05590</td>\n",
       "      <td>0.00000</td>\n",
       "      <td>0.02715</td>\n",
       "      <td>4824218.75000</td>\n",
       "      <td>-4824218.75000</td>\n",
       "      <td>0</td>\n",
       "    </tr>\n",
       "  </tbody>\n",
       "</table>\n",
       "</div>"
      ],
      "text/plain": [
       "      Max    Mean     Std  FFT_Mag1       FFT_Hz1  FFT_Mag2       FFT_Hz2  \\\n",
       "0 0.25965 0.00527 0.14480   0.02436 1000488.75855   0.01515 1000977.51711   \n",
       "1 0.26263 0.00334 0.14480   0.03535 1000488.75855   0.01261 1334799.60899   \n",
       "2 0.25702 0.01063 0.14856   0.02626 1000488.75855   0.01876 1000977.51711   \n",
       "3 0.26208 0.00340 0.14493   0.02686 1000488.75855   0.01511 1001466.27566   \n",
       "4 0.26085 0.00035 0.14501   0.02429 1000488.75855   0.01518 1001466.27566   \n",
       "5 0.26219 0.00845 0.14112   0.01860 1000488.75855   0.01557 1412023.46041   \n",
       "6 0.26255 0.01018 0.14235   0.02065 1000488.75855   0.01492 1000000.00000   \n",
       "7 0.26176 0.00619 0.14468   0.02827 1000488.75855   0.01480 1000977.51711   \n",
       "8 0.26058 0.00054 0.14156   0.02153 1000488.75855   0.01353 1279081.13392   \n",
       "9 0.26101 0.00508 0.14566   0.02750 1000488.75855   0.01427 1231671.55425   \n",
       "\n",
       "   STFT_Mag1  STFT_Hz1  STFT_Mag2      STFT_Hz2      STFT_diff  label  \n",
       "0    0.04856   0.00000    0.02362  761718.75000  -761718.75000      0  \n",
       "1    0.05855   0.00000    0.02980 3515625.00000 -3515625.00000      0  \n",
       "2    0.06945   0.00000    0.02619 2714843.75000 -2714843.75000      0  \n",
       "3    0.05290   0.00000    0.02466  957031.25000  -957031.25000      0  \n",
       "4    0.05557   0.00000    0.02488       0.00000        0.00000      0  \n",
       "5    0.03502   0.00000    0.02325 2500000.00000 -2500000.00000      0  \n",
       "6    0.04690   0.00000    0.02319       0.00000        0.00000      0  \n",
       "7    0.05583   0.00000    0.02621  449218.75000  -449218.75000      0  \n",
       "8    0.05226   0.00000    0.02388       0.00000        0.00000      0  \n",
       "9    0.05590   0.00000    0.02715 4824218.75000 -4824218.75000      0  "
      ]
     },
     "execution_count": 3,
     "metadata": {},
     "output_type": "execute_result"
    }
   ],
   "source": [
    "# 데이터 load\n",
    "arc_df = pd.read_csv('Arc_data.csv')\n",
    "arc_df.head(10)"
   ]
  },
  {
   "cell_type": "code",
   "execution_count": 4,
   "metadata": {},
   "outputs": [
    {
     "data": {
      "text/plain": [
       "Max          False\n",
       "Mean         False\n",
       "Std          False\n",
       "FFT_Mag1     False\n",
       "FFT_Hz1      False\n",
       "FFT_Mag2     False\n",
       "FFT_Hz2      False\n",
       "STFT_Mag1    False\n",
       "STFT_Hz1     False\n",
       "STFT_Mag2    False\n",
       "STFT_Hz2     False\n",
       "STFT_diff    False\n",
       "label        False\n",
       "dtype: bool"
      ]
     },
     "execution_count": 4,
     "metadata": {},
     "output_type": "execute_result"
    }
   ],
   "source": [
    "# 데이터 내 NA 값 여부 확인\n",
    "arc_df.isnull().any() # 만약 존재한다면 0으로 대체 혹은, 해당 열을 제외하고 진행"
   ]
  },
  {
   "cell_type": "markdown",
   "metadata": {},
   "source": [
    "# 데이터 상관분석"
   ]
  },
  {
   "cell_type": "code",
   "execution_count": 5,
   "metadata": {},
   "outputs": [],
   "source": [
    "# 독립변수만 따로 추출\n",
    "features = ['Max', 'Mean', 'Std', 'FFT_Mag1', 'FFT_Hz1', 'FFT_Mag2', 'FFT_Hz2',\n",
    "            'STFT_Mag1', 'STFT_Hz1', 'STFT_Mag2', 'STFT_Hz2', 'STFT_diff']\n",
    "\n",
    "arc_corr = arc_df[features]"
   ]
  },
  {
   "cell_type": "code",
   "execution_count": 6,
   "metadata": {
    "scrolled": true
   },
   "outputs": [
    {
     "data": {
      "text/html": [
       "<div>\n",
       "<style scoped>\n",
       "    .dataframe tbody tr th:only-of-type {\n",
       "        vertical-align: middle;\n",
       "    }\n",
       "\n",
       "    .dataframe tbody tr th {\n",
       "        vertical-align: top;\n",
       "    }\n",
       "\n",
       "    .dataframe thead th {\n",
       "        text-align: right;\n",
       "    }\n",
       "</style>\n",
       "<table border=\"1\" class=\"dataframe\">\n",
       "  <thead>\n",
       "    <tr style=\"text-align: right;\">\n",
       "      <th></th>\n",
       "      <th>Max</th>\n",
       "      <th>Mean</th>\n",
       "      <th>Std</th>\n",
       "      <th>FFT_Mag1</th>\n",
       "      <th>FFT_Hz1</th>\n",
       "      <th>FFT_Mag2</th>\n",
       "      <th>FFT_Hz2</th>\n",
       "      <th>STFT_Mag1</th>\n",
       "      <th>STFT_Hz1</th>\n",
       "      <th>STFT_Mag2</th>\n",
       "      <th>STFT_Hz2</th>\n",
       "      <th>STFT_diff</th>\n",
       "    </tr>\n",
       "  </thead>\n",
       "  <tbody>\n",
       "    <tr>\n",
       "      <th>Max</th>\n",
       "      <td>1.00000</td>\n",
       "      <td>-0.01118</td>\n",
       "      <td>0.99448</td>\n",
       "      <td>0.99831</td>\n",
       "      <td>0.92553</td>\n",
       "      <td>0.72936</td>\n",
       "      <td>0.67675</td>\n",
       "      <td>0.99489</td>\n",
       "      <td>0.99880</td>\n",
       "      <td>0.99636</td>\n",
       "      <td>0.72192</td>\n",
       "      <td>0.58771</td>\n",
       "    </tr>\n",
       "    <tr>\n",
       "      <th>Mean</th>\n",
       "      <td>-0.01118</td>\n",
       "      <td>1.00000</td>\n",
       "      <td>-0.02138</td>\n",
       "      <td>-0.01982</td>\n",
       "      <td>-0.03387</td>\n",
       "      <td>-0.04246</td>\n",
       "      <td>-0.04285</td>\n",
       "      <td>-0.01654</td>\n",
       "      <td>-0.01545</td>\n",
       "      <td>-0.01753</td>\n",
       "      <td>0.09467</td>\n",
       "      <td>-0.13137</td>\n",
       "    </tr>\n",
       "    <tr>\n",
       "      <th>Std</th>\n",
       "      <td>0.99448</td>\n",
       "      <td>-0.02138</td>\n",
       "      <td>1.00000</td>\n",
       "      <td>0.99862</td>\n",
       "      <td>0.95881</td>\n",
       "      <td>0.79406</td>\n",
       "      <td>0.74604</td>\n",
       "      <td>0.99943</td>\n",
       "      <td>0.99033</td>\n",
       "      <td>0.99944</td>\n",
       "      <td>0.72905</td>\n",
       "      <td>0.56741</td>\n",
       "    </tr>\n",
       "    <tr>\n",
       "      <th>FFT_Mag1</th>\n",
       "      <td>0.99831</td>\n",
       "      <td>-0.01982</td>\n",
       "      <td>0.99862</td>\n",
       "      <td>1.00000</td>\n",
       "      <td>0.94274</td>\n",
       "      <td>0.76130</td>\n",
       "      <td>0.71088</td>\n",
       "      <td>0.99872</td>\n",
       "      <td>0.99618</td>\n",
       "      <td>0.99942</td>\n",
       "      <td>0.72767</td>\n",
       "      <td>0.57734</td>\n",
       "    </tr>\n",
       "    <tr>\n",
       "      <th>FFT_Hz1</th>\n",
       "      <td>0.92553</td>\n",
       "      <td>-0.03387</td>\n",
       "      <td>0.95881</td>\n",
       "      <td>0.94274</td>\n",
       "      <td>1.00000</td>\n",
       "      <td>0.93380</td>\n",
       "      <td>0.90239</td>\n",
       "      <td>0.95489</td>\n",
       "      <td>0.91070</td>\n",
       "      <td>0.95096</td>\n",
       "      <td>0.70602</td>\n",
       "      <td>0.48067</td>\n",
       "    </tr>\n",
       "    <tr>\n",
       "      <th>FFT_Mag2</th>\n",
       "      <td>0.72936</td>\n",
       "      <td>-0.04246</td>\n",
       "      <td>0.79406</td>\n",
       "      <td>0.76130</td>\n",
       "      <td>0.93380</td>\n",
       "      <td>1.00000</td>\n",
       "      <td>0.99259</td>\n",
       "      <td>0.78641</td>\n",
       "      <td>0.70270</td>\n",
       "      <td>0.77797</td>\n",
       "      <td>0.59537</td>\n",
       "      <td>0.31243</td>\n",
       "    </tr>\n",
       "    <tr>\n",
       "      <th>FFT_Hz2</th>\n",
       "      <td>0.67675</td>\n",
       "      <td>-0.04285</td>\n",
       "      <td>0.74604</td>\n",
       "      <td>0.71088</td>\n",
       "      <td>0.90239</td>\n",
       "      <td>0.99259</td>\n",
       "      <td>1.00000</td>\n",
       "      <td>0.73689</td>\n",
       "      <td>0.64842</td>\n",
       "      <td>0.72917</td>\n",
       "      <td>0.54870</td>\n",
       "      <td>0.28908</td>\n",
       "    </tr>\n",
       "    <tr>\n",
       "      <th>STFT_Mag1</th>\n",
       "      <td>0.99489</td>\n",
       "      <td>-0.01654</td>\n",
       "      <td>0.99943</td>\n",
       "      <td>0.99872</td>\n",
       "      <td>0.95489</td>\n",
       "      <td>0.78641</td>\n",
       "      <td>0.73689</td>\n",
       "      <td>1.00000</td>\n",
       "      <td>0.99136</td>\n",
       "      <td>0.99918</td>\n",
       "      <td>0.73737</td>\n",
       "      <td>0.55927</td>\n",
       "    </tr>\n",
       "    <tr>\n",
       "      <th>STFT_Hz1</th>\n",
       "      <td>0.99880</td>\n",
       "      <td>-0.01545</td>\n",
       "      <td>0.99033</td>\n",
       "      <td>0.99618</td>\n",
       "      <td>0.91070</td>\n",
       "      <td>0.70270</td>\n",
       "      <td>0.64842</td>\n",
       "      <td>0.99136</td>\n",
       "      <td>1.00000</td>\n",
       "      <td>0.99330</td>\n",
       "      <td>0.71786</td>\n",
       "      <td>0.59411</td>\n",
       "    </tr>\n",
       "    <tr>\n",
       "      <th>STFT_Mag2</th>\n",
       "      <td>0.99636</td>\n",
       "      <td>-0.01753</td>\n",
       "      <td>0.99944</td>\n",
       "      <td>0.99942</td>\n",
       "      <td>0.95096</td>\n",
       "      <td>0.77797</td>\n",
       "      <td>0.72917</td>\n",
       "      <td>0.99918</td>\n",
       "      <td>0.99330</td>\n",
       "      <td>1.00000</td>\n",
       "      <td>0.72841</td>\n",
       "      <td>0.57238</td>\n",
       "    </tr>\n",
       "    <tr>\n",
       "      <th>STFT_Hz2</th>\n",
       "      <td>0.72192</td>\n",
       "      <td>0.09467</td>\n",
       "      <td>0.72905</td>\n",
       "      <td>0.72767</td>\n",
       "      <td>0.70602</td>\n",
       "      <td>0.59537</td>\n",
       "      <td>0.54870</td>\n",
       "      <td>0.73737</td>\n",
       "      <td>0.71786</td>\n",
       "      <td>0.72841</td>\n",
       "      <td>1.00000</td>\n",
       "      <td>-0.13351</td>\n",
       "    </tr>\n",
       "    <tr>\n",
       "      <th>STFT_diff</th>\n",
       "      <td>0.58771</td>\n",
       "      <td>-0.13137</td>\n",
       "      <td>0.56741</td>\n",
       "      <td>0.57734</td>\n",
       "      <td>0.48067</td>\n",
       "      <td>0.31243</td>\n",
       "      <td>0.28908</td>\n",
       "      <td>0.55927</td>\n",
       "      <td>0.59411</td>\n",
       "      <td>0.57238</td>\n",
       "      <td>-0.13351</td>\n",
       "      <td>1.00000</td>\n",
       "    </tr>\n",
       "  </tbody>\n",
       "</table>\n",
       "</div>"
      ],
      "text/plain": [
       "               Max     Mean      Std  FFT_Mag1  FFT_Hz1  FFT_Mag2  FFT_Hz2  \\\n",
       "Max        1.00000 -0.01118  0.99448   0.99831  0.92553   0.72936  0.67675   \n",
       "Mean      -0.01118  1.00000 -0.02138  -0.01982 -0.03387  -0.04246 -0.04285   \n",
       "Std        0.99448 -0.02138  1.00000   0.99862  0.95881   0.79406  0.74604   \n",
       "FFT_Mag1   0.99831 -0.01982  0.99862   1.00000  0.94274   0.76130  0.71088   \n",
       "FFT_Hz1    0.92553 -0.03387  0.95881   0.94274  1.00000   0.93380  0.90239   \n",
       "FFT_Mag2   0.72936 -0.04246  0.79406   0.76130  0.93380   1.00000  0.99259   \n",
       "FFT_Hz2    0.67675 -0.04285  0.74604   0.71088  0.90239   0.99259  1.00000   \n",
       "STFT_Mag1  0.99489 -0.01654  0.99943   0.99872  0.95489   0.78641  0.73689   \n",
       "STFT_Hz1   0.99880 -0.01545  0.99033   0.99618  0.91070   0.70270  0.64842   \n",
       "STFT_Mag2  0.99636 -0.01753  0.99944   0.99942  0.95096   0.77797  0.72917   \n",
       "STFT_Hz2   0.72192  0.09467  0.72905   0.72767  0.70602   0.59537  0.54870   \n",
       "STFT_diff  0.58771 -0.13137  0.56741   0.57734  0.48067   0.31243  0.28908   \n",
       "\n",
       "           STFT_Mag1  STFT_Hz1  STFT_Mag2  STFT_Hz2  STFT_diff  \n",
       "Max          0.99489   0.99880    0.99636   0.72192    0.58771  \n",
       "Mean        -0.01654  -0.01545   -0.01753   0.09467   -0.13137  \n",
       "Std          0.99943   0.99033    0.99944   0.72905    0.56741  \n",
       "FFT_Mag1     0.99872   0.99618    0.99942   0.72767    0.57734  \n",
       "FFT_Hz1      0.95489   0.91070    0.95096   0.70602    0.48067  \n",
       "FFT_Mag2     0.78641   0.70270    0.77797   0.59537    0.31243  \n",
       "FFT_Hz2      0.73689   0.64842    0.72917   0.54870    0.28908  \n",
       "STFT_Mag1    1.00000   0.99136    0.99918   0.73737    0.55927  \n",
       "STFT_Hz1     0.99136   1.00000    0.99330   0.71786    0.59411  \n",
       "STFT_Mag2    0.99918   0.99330    1.00000   0.72841    0.57238  \n",
       "STFT_Hz2     0.73737   0.71786    0.72841   1.00000   -0.13351  \n",
       "STFT_diff    0.55927   0.59411    0.57238  -0.13351    1.00000  "
      ]
     },
     "execution_count": 6,
     "metadata": {},
     "output_type": "execute_result"
    }
   ],
   "source": [
    "# 상관계수 출력(method : 'Pearson')\n",
    "arc_corr.corr()"
   ]
  },
  {
   "cell_type": "markdown",
   "metadata": {},
   "source": [
    "## Feature Select"
   ]
  },
  {
   "cell_type": "markdown",
   "metadata": {},
   "source": [
    "### VIF\n",
    "- 제거 순서\n",
    "1. VIF 계수가 높은 feature제거\n",
    "\n",
    "2. 단 유사한 feature의 경우, 둘 중 1개만 제거\n",
    "\n",
    "3. 제거 후 VIF계수 재출력\n",
    "\n",
    "4. (1, 2, 3)의 과정 반복"
   ]
  },
  {
   "cell_type": "code",
   "execution_count": 7,
   "metadata": {
    "scrolled": false
   },
   "outputs": [
    {
     "name": "stderr",
     "output_type": "stream",
     "text": [
      "c:\\users\\user\\anaconda3\\envs\\etri\\lib\\site-packages\\statsmodels\\stats\\outliers_influence.py:193: RuntimeWarning: divide by zero encountered in double_scalars\n",
      "  vif = 1. / (1. - r_squared_i)\n"
     ]
    },
    {
     "data": {
      "text/html": [
       "<div>\n",
       "<style scoped>\n",
       "    .dataframe tbody tr th:only-of-type {\n",
       "        vertical-align: middle;\n",
       "    }\n",
       "\n",
       "    .dataframe tbody tr th {\n",
       "        vertical-align: top;\n",
       "    }\n",
       "\n",
       "    .dataframe thead th {\n",
       "        text-align: right;\n",
       "    }\n",
       "</style>\n",
       "<table border=\"1\" class=\"dataframe\">\n",
       "  <thead>\n",
       "    <tr style=\"text-align: right;\">\n",
       "      <th></th>\n",
       "      <th>VIF Factor</th>\n",
       "      <th>features</th>\n",
       "    </tr>\n",
       "  </thead>\n",
       "  <tbody>\n",
       "    <tr>\n",
       "      <th>0</th>\n",
       "      <td>6036.54367</td>\n",
       "      <td>Max</td>\n",
       "    </tr>\n",
       "    <tr>\n",
       "      <th>1</th>\n",
       "      <td>4.15443</td>\n",
       "      <td>Mean</td>\n",
       "    </tr>\n",
       "    <tr>\n",
       "      <th>2</th>\n",
       "      <td>81379.54608</td>\n",
       "      <td>Std</td>\n",
       "    </tr>\n",
       "    <tr>\n",
       "      <th>3</th>\n",
       "      <td>82870.89907</td>\n",
       "      <td>FFT_Mag1</td>\n",
       "    </tr>\n",
       "    <tr>\n",
       "      <th>4</th>\n",
       "      <td>31972.35669</td>\n",
       "      <td>FFT_Hz1</td>\n",
       "    </tr>\n",
       "    <tr>\n",
       "      <th>5</th>\n",
       "      <td>1576.07964</td>\n",
       "      <td>FFT_Mag2</td>\n",
       "    </tr>\n",
       "    <tr>\n",
       "      <th>6</th>\n",
       "      <td>538.74062</td>\n",
       "      <td>FFT_Hz2</td>\n",
       "    </tr>\n",
       "    <tr>\n",
       "      <th>7</th>\n",
       "      <td>5536.92182</td>\n",
       "      <td>STFT_Mag1</td>\n",
       "    </tr>\n",
       "    <tr>\n",
       "      <th>8</th>\n",
       "      <td>inf</td>\n",
       "      <td>STFT_Hz1</td>\n",
       "    </tr>\n",
       "    <tr>\n",
       "      <th>9</th>\n",
       "      <td>7954.05815</td>\n",
       "      <td>STFT_Mag2</td>\n",
       "    </tr>\n",
       "    <tr>\n",
       "      <th>10</th>\n",
       "      <td>inf</td>\n",
       "      <td>STFT_Hz2</td>\n",
       "    </tr>\n",
       "    <tr>\n",
       "      <th>11</th>\n",
       "      <td>inf</td>\n",
       "      <td>STFT_diff</td>\n",
       "    </tr>\n",
       "  </tbody>\n",
       "</table>\n",
       "</div>"
      ],
      "text/plain": [
       "    VIF Factor   features\n",
       "0   6036.54367        Max\n",
       "1      4.15443       Mean\n",
       "2  81379.54608        Std\n",
       "3  82870.89907   FFT_Mag1\n",
       "4  31972.35669    FFT_Hz1\n",
       "5   1576.07964   FFT_Mag2\n",
       "6    538.74062    FFT_Hz2\n",
       "7   5536.92182  STFT_Mag1\n",
       "8          inf   STFT_Hz1\n",
       "9   7954.05815  STFT_Mag2\n",
       "10         inf   STFT_Hz2\n",
       "11         inf  STFT_diff"
      ]
     },
     "execution_count": 7,
     "metadata": {},
     "output_type": "execute_result"
    }
   ],
   "source": [
    "from statsmodels.stats.outliers_influence import variance_inflation_factor\n",
    "# 피처마다의 VIF 계수를 출력합니다.\n",
    "vif = pd.DataFrame()\n",
    "vif[\"VIF Factor\"] = [variance_inflation_factor(arc_corr.values, i) for i in range(arc_corr.shape[1])]\n",
    "vif[\"features\"] = arc_corr.columns\n",
    "vif"
   ]
  },
  {
   "cell_type": "code",
   "execution_count": 8,
   "metadata": {
    "scrolled": true
   },
   "outputs": [
    {
     "data": {
      "text/html": [
       "<div>\n",
       "<style scoped>\n",
       "    .dataframe tbody tr th:only-of-type {\n",
       "        vertical-align: middle;\n",
       "    }\n",
       "\n",
       "    .dataframe tbody tr th {\n",
       "        vertical-align: top;\n",
       "    }\n",
       "\n",
       "    .dataframe thead th {\n",
       "        text-align: right;\n",
       "    }\n",
       "</style>\n",
       "<table border=\"1\" class=\"dataframe\">\n",
       "  <thead>\n",
       "    <tr style=\"text-align: right;\">\n",
       "      <th></th>\n",
       "      <th>VIF Factor</th>\n",
       "      <th>features</th>\n",
       "    </tr>\n",
       "  </thead>\n",
       "  <tbody>\n",
       "    <tr>\n",
       "      <th>0</th>\n",
       "      <td>183.93397</td>\n",
       "      <td>Max</td>\n",
       "    </tr>\n",
       "    <tr>\n",
       "      <th>1</th>\n",
       "      <td>3.63172</td>\n",
       "      <td>Mean</td>\n",
       "    </tr>\n",
       "    <tr>\n",
       "      <th>2</th>\n",
       "      <td>2356.39208</td>\n",
       "      <td>FFT_Mag1</td>\n",
       "    </tr>\n",
       "    <tr>\n",
       "      <th>3</th>\n",
       "      <td>147.13761</td>\n",
       "      <td>FFT_Hz1</td>\n",
       "    </tr>\n",
       "    <tr>\n",
       "      <th>4</th>\n",
       "      <td>4166.35611</td>\n",
       "      <td>STFT_Mag1</td>\n",
       "    </tr>\n",
       "    <tr>\n",
       "      <th>5</th>\n",
       "      <td>2.25540</td>\n",
       "      <td>STFT_diff</td>\n",
       "    </tr>\n",
       "  </tbody>\n",
       "</table>\n",
       "</div>"
      ],
      "text/plain": [
       "   VIF Factor   features\n",
       "0   183.93397        Max\n",
       "1     3.63172       Mean\n",
       "2  2356.39208   FFT_Mag1\n",
       "3   147.13761    FFT_Hz1\n",
       "4  4166.35611  STFT_Mag1\n",
       "5     2.25540  STFT_diff"
      ]
     },
     "execution_count": 8,
     "metadata": {},
     "output_type": "execute_result"
    }
   ],
   "source": [
    "# VIF 계수 높은 feature 제거\n",
    "\n",
    "arc_corr = arc_corr.drop(['Std', 'FFT_Mag2', 'FFT_Hz2', 'STFT_Mag2', 'STFT_Hz2', 'STFT_Hz1'], axis = 1)\n",
    "vif = pd.DataFrame()\n",
    "vif['VIF Factor']  = [variance_inflation_factor(arc_corr.values, i) for i in range(arc_corr.shape[1])]\n",
    "vif['features'] = arc_corr.columns\n",
    "vif"
   ]
  },
  {
   "cell_type": "markdown",
   "metadata": {},
   "source": [
    "## Feature Extraction"
   ]
  },
  {
   "cell_type": "markdown",
   "metadata": {},
   "source": [
    "### PCA"
   ]
  },
  {
   "cell_type": "code",
   "execution_count": 9,
   "metadata": {},
   "outputs": [],
   "source": [
    "from sklearn.preprocessing import MinMaxScaler\n",
    "\n",
    "scaler = MinMaxScaler()\n",
    "arc_scale = pd.DataFrame(scaler.fit_transform(arc_corr), columns=arc_corr.columns)"
   ]
  },
  {
   "cell_type": "code",
   "execution_count": 10,
   "metadata": {},
   "outputs": [
    {
     "name": "stdout",
     "output_type": "stream",
     "text": [
      "(60, 2)\n"
     ]
    }
   ],
   "source": [
    "from sklearn.decomposition import PCA\n",
    "\n",
    "pca = PCA(n_components = 2) # 주성분 개수: 2\n",
    "pca.fit(arc_scale)\n",
    "arc_pca = pca.transform(arc_scale)\n",
    "print(arc_pca.shape)"
   ]
  },
  {
   "cell_type": "code",
   "execution_count": 11,
   "metadata": {},
   "outputs": [
    {
     "data": {
      "text/plain": [
       "0   0.85744\n",
       "1   0.93288\n",
       "dtype: float64"
      ]
     },
     "execution_count": 11,
     "metadata": {},
     "output_type": "execute_result"
    }
   ],
   "source": [
    "# PCA 주성분분석\n",
    "pd.Series(np.cumsum(pca.explained_variance_ratio_))"
   ]
  },
  {
   "cell_type": "code",
   "execution_count": 12,
   "metadata": {
    "scrolled": true
   },
   "outputs": [
    {
     "data": {
      "text/html": [
       "<div>\n",
       "<style scoped>\n",
       "    .dataframe tbody tr th:only-of-type {\n",
       "        vertical-align: middle;\n",
       "    }\n",
       "\n",
       "    .dataframe tbody tr th {\n",
       "        vertical-align: top;\n",
       "    }\n",
       "\n",
       "    .dataframe thead th {\n",
       "        text-align: right;\n",
       "    }\n",
       "</style>\n",
       "<table border=\"1\" class=\"dataframe\">\n",
       "  <thead>\n",
       "    <tr style=\"text-align: right;\">\n",
       "      <th></th>\n",
       "      <th>PC1</th>\n",
       "      <th>PC2</th>\n",
       "      <th>label</th>\n",
       "    </tr>\n",
       "  </thead>\n",
       "  <tbody>\n",
       "    <tr>\n",
       "      <th>0</th>\n",
       "      <td>1.03282</td>\n",
       "      <td>-0.09474</td>\n",
       "      <td>0</td>\n",
       "    </tr>\n",
       "    <tr>\n",
       "      <th>1</th>\n",
       "      <td>1.10817</td>\n",
       "      <td>-0.02793</td>\n",
       "      <td>0</td>\n",
       "    </tr>\n",
       "    <tr>\n",
       "      <th>2</th>\n",
       "      <td>1.08166</td>\n",
       "      <td>0.33749</td>\n",
       "      <td>0</td>\n",
       "    </tr>\n",
       "    <tr>\n",
       "      <th>3</th>\n",
       "      <td>1.03112</td>\n",
       "      <td>-0.18838</td>\n",
       "      <td>0</td>\n",
       "    </tr>\n",
       "    <tr>\n",
       "      <th>4</th>\n",
       "      <td>0.99572</td>\n",
       "      <td>-0.42326</td>\n",
       "      <td>0</td>\n",
       "    </tr>\n",
       "    <tr>\n",
       "      <th>5</th>\n",
       "      <td>1.11254</td>\n",
       "      <td>0.19672</td>\n",
       "      <td>0</td>\n",
       "    </tr>\n",
       "    <tr>\n",
       "      <th>6</th>\n",
       "      <td>1.01178</td>\n",
       "      <td>0.13700</td>\n",
       "      <td>0</td>\n",
       "    </tr>\n",
       "    <tr>\n",
       "      <th>7</th>\n",
       "      <td>1.01082</td>\n",
       "      <td>-0.06138</td>\n",
       "      <td>0</td>\n",
       "    </tr>\n",
       "    <tr>\n",
       "      <th>8</th>\n",
       "      <td>1.00144</td>\n",
       "      <td>-0.41286</td>\n",
       "      <td>0</td>\n",
       "    </tr>\n",
       "    <tr>\n",
       "      <th>9</th>\n",
       "      <td>1.16412</td>\n",
       "      <td>0.15443</td>\n",
       "      <td>0</td>\n",
       "    </tr>\n",
       "    <tr>\n",
       "      <th>10</th>\n",
       "      <td>1.01644</td>\n",
       "      <td>-0.36144</td>\n",
       "      <td>0</td>\n",
       "    </tr>\n",
       "    <tr>\n",
       "      <th>11</th>\n",
       "      <td>1.07207</td>\n",
       "      <td>-0.17638</td>\n",
       "      <td>0</td>\n",
       "    </tr>\n",
       "    <tr>\n",
       "      <th>12</th>\n",
       "      <td>1.02082</td>\n",
       "      <td>-0.06243</td>\n",
       "      <td>0</td>\n",
       "    </tr>\n",
       "    <tr>\n",
       "      <th>13</th>\n",
       "      <td>1.07669</td>\n",
       "      <td>0.09440</td>\n",
       "      <td>0</td>\n",
       "    </tr>\n",
       "    <tr>\n",
       "      <th>14</th>\n",
       "      <td>1.12032</td>\n",
       "      <td>0.59713</td>\n",
       "      <td>0</td>\n",
       "    </tr>\n",
       "    <tr>\n",
       "      <th>15</th>\n",
       "      <td>1.00166</td>\n",
       "      <td>-0.15637</td>\n",
       "      <td>0</td>\n",
       "    </tr>\n",
       "    <tr>\n",
       "      <th>16</th>\n",
       "      <td>1.08187</td>\n",
       "      <td>-0.15819</td>\n",
       "      <td>0</td>\n",
       "    </tr>\n",
       "    <tr>\n",
       "      <th>17</th>\n",
       "      <td>1.01019</td>\n",
       "      <td>0.16731</td>\n",
       "      <td>0</td>\n",
       "    </tr>\n",
       "    <tr>\n",
       "      <th>18</th>\n",
       "      <td>1.01483</td>\n",
       "      <td>0.00036</td>\n",
       "      <td>0</td>\n",
       "    </tr>\n",
       "    <tr>\n",
       "      <th>19</th>\n",
       "      <td>1.16294</td>\n",
       "      <td>0.45992</td>\n",
       "      <td>0</td>\n",
       "    </tr>\n",
       "    <tr>\n",
       "      <th>20</th>\n",
       "      <td>-0.14883</td>\n",
       "      <td>-0.13699</td>\n",
       "      <td>1</td>\n",
       "    </tr>\n",
       "    <tr>\n",
       "      <th>21</th>\n",
       "      <td>-0.15260</td>\n",
       "      <td>0.06521</td>\n",
       "      <td>1</td>\n",
       "    </tr>\n",
       "    <tr>\n",
       "      <th>22</th>\n",
       "      <td>-0.14202</td>\n",
       "      <td>0.23758</td>\n",
       "      <td>1</td>\n",
       "    </tr>\n",
       "    <tr>\n",
       "      <th>23</th>\n",
       "      <td>-0.16035</td>\n",
       "      <td>0.00341</td>\n",
       "      <td>1</td>\n",
       "    </tr>\n",
       "    <tr>\n",
       "      <th>24</th>\n",
       "      <td>-0.12288</td>\n",
       "      <td>-0.16624</td>\n",
       "      <td>1</td>\n",
       "    </tr>\n",
       "    <tr>\n",
       "      <th>25</th>\n",
       "      <td>-0.14392</td>\n",
       "      <td>0.06909</td>\n",
       "      <td>1</td>\n",
       "    </tr>\n",
       "    <tr>\n",
       "      <th>26</th>\n",
       "      <td>-0.13305</td>\n",
       "      <td>-0.06923</td>\n",
       "      <td>1</td>\n",
       "    </tr>\n",
       "    <tr>\n",
       "      <th>27</th>\n",
       "      <td>-0.13708</td>\n",
       "      <td>-0.26061</td>\n",
       "      <td>1</td>\n",
       "    </tr>\n",
       "    <tr>\n",
       "      <th>28</th>\n",
       "      <td>-0.14538</td>\n",
       "      <td>-0.47524</td>\n",
       "      <td>1</td>\n",
       "    </tr>\n",
       "    <tr>\n",
       "      <th>29</th>\n",
       "      <td>-0.14812</td>\n",
       "      <td>0.33218</td>\n",
       "      <td>1</td>\n",
       "    </tr>\n",
       "    <tr>\n",
       "      <th>30</th>\n",
       "      <td>-0.14066</td>\n",
       "      <td>-0.29697</td>\n",
       "      <td>1</td>\n",
       "    </tr>\n",
       "    <tr>\n",
       "      <th>31</th>\n",
       "      <td>-0.15378</td>\n",
       "      <td>0.05899</td>\n",
       "      <td>1</td>\n",
       "    </tr>\n",
       "    <tr>\n",
       "      <th>32</th>\n",
       "      <td>-0.14733</td>\n",
       "      <td>0.47098</td>\n",
       "      <td>1</td>\n",
       "    </tr>\n",
       "    <tr>\n",
       "      <th>33</th>\n",
       "      <td>-0.14153</td>\n",
       "      <td>-0.05797</td>\n",
       "      <td>1</td>\n",
       "    </tr>\n",
       "    <tr>\n",
       "      <th>34</th>\n",
       "      <td>-0.14054</td>\n",
       "      <td>-0.02868</td>\n",
       "      <td>1</td>\n",
       "    </tr>\n",
       "    <tr>\n",
       "      <th>35</th>\n",
       "      <td>-0.14340</td>\n",
       "      <td>0.36163</td>\n",
       "      <td>1</td>\n",
       "    </tr>\n",
       "    <tr>\n",
       "      <th>36</th>\n",
       "      <td>-0.14092</td>\n",
       "      <td>-0.32693</td>\n",
       "      <td>1</td>\n",
       "    </tr>\n",
       "    <tr>\n",
       "      <th>37</th>\n",
       "      <td>-0.14039</td>\n",
       "      <td>-0.07596</td>\n",
       "      <td>1</td>\n",
       "    </tr>\n",
       "    <tr>\n",
       "      <th>38</th>\n",
       "      <td>-0.14811</td>\n",
       "      <td>0.11517</td>\n",
       "      <td>1</td>\n",
       "    </tr>\n",
       "    <tr>\n",
       "      <th>39</th>\n",
       "      <td>-0.14094</td>\n",
       "      <td>-0.10903</td>\n",
       "      <td>1</td>\n",
       "    </tr>\n",
       "    <tr>\n",
       "      <th>40</th>\n",
       "      <td>-0.91904</td>\n",
       "      <td>-0.22882</td>\n",
       "      <td>1</td>\n",
       "    </tr>\n",
       "    <tr>\n",
       "      <th>41</th>\n",
       "      <td>-0.90802</td>\n",
       "      <td>-0.03778</td>\n",
       "      <td>1</td>\n",
       "    </tr>\n",
       "    <tr>\n",
       "      <th>42</th>\n",
       "      <td>-0.91813</td>\n",
       "      <td>0.01812</td>\n",
       "      <td>1</td>\n",
       "    </tr>\n",
       "    <tr>\n",
       "      <th>43</th>\n",
       "      <td>-0.92300</td>\n",
       "      <td>0.18974</td>\n",
       "      <td>1</td>\n",
       "    </tr>\n",
       "    <tr>\n",
       "      <th>44</th>\n",
       "      <td>-0.91047</td>\n",
       "      <td>0.05600</td>\n",
       "      <td>1</td>\n",
       "    </tr>\n",
       "    <tr>\n",
       "      <th>45</th>\n",
       "      <td>-0.91327</td>\n",
       "      <td>0.27449</td>\n",
       "      <td>1</td>\n",
       "    </tr>\n",
       "    <tr>\n",
       "      <th>46</th>\n",
       "      <td>-0.92367</td>\n",
       "      <td>0.05089</td>\n",
       "      <td>1</td>\n",
       "    </tr>\n",
       "    <tr>\n",
       "      <th>47</th>\n",
       "      <td>-0.88510</td>\n",
       "      <td>-0.23667</td>\n",
       "      <td>1</td>\n",
       "    </tr>\n",
       "    <tr>\n",
       "      <th>48</th>\n",
       "      <td>-0.90266</td>\n",
       "      <td>-0.33231</td>\n",
       "      <td>1</td>\n",
       "    </tr>\n",
       "    <tr>\n",
       "      <th>49</th>\n",
       "      <td>-0.92393</td>\n",
       "      <td>0.26447</td>\n",
       "      <td>1</td>\n",
       "    </tr>\n",
       "    <tr>\n",
       "      <th>50</th>\n",
       "      <td>-0.92631</td>\n",
       "      <td>-0.20157</td>\n",
       "      <td>1</td>\n",
       "    </tr>\n",
       "    <tr>\n",
       "      <th>51</th>\n",
       "      <td>-0.89661</td>\n",
       "      <td>0.25667</td>\n",
       "      <td>1</td>\n",
       "    </tr>\n",
       "    <tr>\n",
       "      <th>52</th>\n",
       "      <td>-0.90525</td>\n",
       "      <td>0.50614</td>\n",
       "      <td>1</td>\n",
       "    </tr>\n",
       "    <tr>\n",
       "      <th>53</th>\n",
       "      <td>-0.91775</td>\n",
       "      <td>-0.09311</td>\n",
       "      <td>1</td>\n",
       "    </tr>\n",
       "    <tr>\n",
       "      <th>54</th>\n",
       "      <td>-0.89754</td>\n",
       "      <td>0.12801</td>\n",
       "      <td>1</td>\n",
       "    </tr>\n",
       "    <tr>\n",
       "      <th>55</th>\n",
       "      <td>-0.90756</td>\n",
       "      <td>0.17944</td>\n",
       "      <td>1</td>\n",
       "    </tr>\n",
       "    <tr>\n",
       "      <th>56</th>\n",
       "      <td>-0.92791</td>\n",
       "      <td>-0.32558</td>\n",
       "      <td>1</td>\n",
       "    </tr>\n",
       "    <tr>\n",
       "      <th>57</th>\n",
       "      <td>-0.93108</td>\n",
       "      <td>-0.09279</td>\n",
       "      <td>1</td>\n",
       "    </tr>\n",
       "    <tr>\n",
       "      <th>58</th>\n",
       "      <td>-0.91902</td>\n",
       "      <td>-0.01779</td>\n",
       "      <td>1</td>\n",
       "    </tr>\n",
       "    <tr>\n",
       "      <th>59</th>\n",
       "      <td>-0.89990</td>\n",
       "      <td>-0.08938</td>\n",
       "      <td>1</td>\n",
       "    </tr>\n",
       "  </tbody>\n",
       "</table>\n",
       "</div>"
      ],
      "text/plain": [
       "        PC1      PC2  label\n",
       "0   1.03282 -0.09474      0\n",
       "1   1.10817 -0.02793      0\n",
       "2   1.08166  0.33749      0\n",
       "3   1.03112 -0.18838      0\n",
       "4   0.99572 -0.42326      0\n",
       "5   1.11254  0.19672      0\n",
       "6   1.01178  0.13700      0\n",
       "7   1.01082 -0.06138      0\n",
       "8   1.00144 -0.41286      0\n",
       "9   1.16412  0.15443      0\n",
       "10  1.01644 -0.36144      0\n",
       "11  1.07207 -0.17638      0\n",
       "12  1.02082 -0.06243      0\n",
       "13  1.07669  0.09440      0\n",
       "14  1.12032  0.59713      0\n",
       "15  1.00166 -0.15637      0\n",
       "16  1.08187 -0.15819      0\n",
       "17  1.01019  0.16731      0\n",
       "18  1.01483  0.00036      0\n",
       "19  1.16294  0.45992      0\n",
       "20 -0.14883 -0.13699      1\n",
       "21 -0.15260  0.06521      1\n",
       "22 -0.14202  0.23758      1\n",
       "23 -0.16035  0.00341      1\n",
       "24 -0.12288 -0.16624      1\n",
       "25 -0.14392  0.06909      1\n",
       "26 -0.13305 -0.06923      1\n",
       "27 -0.13708 -0.26061      1\n",
       "28 -0.14538 -0.47524      1\n",
       "29 -0.14812  0.33218      1\n",
       "30 -0.14066 -0.29697      1\n",
       "31 -0.15378  0.05899      1\n",
       "32 -0.14733  0.47098      1\n",
       "33 -0.14153 -0.05797      1\n",
       "34 -0.14054 -0.02868      1\n",
       "35 -0.14340  0.36163      1\n",
       "36 -0.14092 -0.32693      1\n",
       "37 -0.14039 -0.07596      1\n",
       "38 -0.14811  0.11517      1\n",
       "39 -0.14094 -0.10903      1\n",
       "40 -0.91904 -0.22882      1\n",
       "41 -0.90802 -0.03778      1\n",
       "42 -0.91813  0.01812      1\n",
       "43 -0.92300  0.18974      1\n",
       "44 -0.91047  0.05600      1\n",
       "45 -0.91327  0.27449      1\n",
       "46 -0.92367  0.05089      1\n",
       "47 -0.88510 -0.23667      1\n",
       "48 -0.90266 -0.33231      1\n",
       "49 -0.92393  0.26447      1\n",
       "50 -0.92631 -0.20157      1\n",
       "51 -0.89661  0.25667      1\n",
       "52 -0.90525  0.50614      1\n",
       "53 -0.91775 -0.09311      1\n",
       "54 -0.89754  0.12801      1\n",
       "55 -0.90756  0.17944      1\n",
       "56 -0.92791 -0.32558      1\n",
       "57 -0.93108 -0.09279      1\n",
       "58 -0.91902 -0.01779      1\n",
       "59 -0.89990 -0.08938      1"
      ]
     },
     "execution_count": 12,
     "metadata": {},
     "output_type": "execute_result"
    }
   ],
   "source": [
    "pca_columns=['PC1','PC2']\n",
    "arc_pca = pd.DataFrame(arc_pca, columns=pca_columns)\n",
    "arc_pca['label']=arc_df.label\n",
    "arc_pca"
   ]
  },
  {
   "cell_type": "markdown",
   "metadata": {},
   "source": [
    "#  imbalanced Classes"
   ]
  },
  {
   "cell_type": "code",
   "execution_count": 13,
   "metadata": {},
   "outputs": [
    {
     "name": "stdout",
     "output_type": "stream",
     "text": [
      "Arc Detection data - rows:  60 columns: 3\n"
     ]
    }
   ],
   "source": [
    "print('Arc Detection data - rows: ',arc_pca.shape[0], 'columns:',arc_pca.shape[1])"
   ]
  },
  {
   "cell_type": "code",
   "execution_count": 14,
   "metadata": {},
   "outputs": [
    {
     "data": {
      "text/plain": [
       "Counter({0: 20, 1: 40})"
      ]
     },
     "execution_count": 14,
     "metadata": {},
     "output_type": "execute_result"
    }
   ],
   "source": [
    "# target variable 분포 확인\n",
    "from collections import Counter\n",
    "\n",
    "Counter(arc_pca.label)"
   ]
  },
  {
   "cell_type": "code",
   "execution_count": 15,
   "metadata": {
    "scrolled": true
   },
   "outputs": [
    {
     "name": "stdout",
     "output_type": "stream",
     "text": [
      "Shape of X: (60, 2)\n",
      "Shape of y: (60, 1)\n"
     ]
    }
   ],
   "source": [
    "X = np.array(arc_pca.iloc[:, arc_pca.columns != 'label'])\n",
    "y = np.array(arc_pca.iloc[:, arc_pca.columns == 'label'])\n",
    "print('Shape of X: {}'.format(X.shape))\n",
    "print('Shape of y: {}'.format(y.shape))"
   ]
  },
  {
   "cell_type": "markdown",
   "metadata": {},
   "source": [
    "## SMOTE를 이용한 Oversampling"
   ]
  },
  {
   "cell_type": "code",
   "execution_count": 16,
   "metadata": {
    "scrolled": true
   },
   "outputs": [
    {
     "name": "stdout",
     "output_type": "stream",
     "text": [
      "Number transactions X_train dataset:  (54, 2)\n",
      "Number transactions y_train dataset:  (54, 1)\n",
      "Number transactions X_test dataset:  (6, 2)\n",
      "Number transactions y_test dataset:  (6, 1)\n"
     ]
    }
   ],
   "source": [
    "from sklearn.model_selection import train_test_split\n",
    "\n",
    "X_train, X_test, y_train, y_test = train_test_split(X, y, test_size = 0.1, random_state = 0)\n",
    "\n",
    "# 기존의 X_train, y_train, X_test, y_test의 형태확인\n",
    "print(\"Number transactions X_train dataset: \", X_train.shape)\n",
    "print(\"Number transactions y_train dataset: \", y_train.shape)\n",
    "print(\"Number transactions X_test dataset: \", X_test.shape)\n",
    "print(\"Number transactions y_test dataset: \", y_test.shape)"
   ]
  },
  {
   "cell_type": "code",
   "execution_count": 17,
   "metadata": {},
   "outputs": [
    {
     "name": "stdout",
     "output_type": "stream",
     "text": [
      "Before OverSampling, counts of label '1': [36]\n",
      "Before OverSampling, counts of label '0': [18]\n",
      "After OverSampling, counts of label '1': 36\n",
      "After OverSampling, counts of label '0': 36\n"
     ]
    }
   ],
   "source": [
    "from imblearn.over_sampling import SMOTE\n",
    "print(\"Before OverSampling, counts of label '1': {}\".format(sum(y_train == 1)))\n",
    "print(\"Before OverSampling, counts of label '0': {}\".format(sum(y_train == 0)))\n",
    "\n",
    "sm = SMOTE(random_state = 42, sampling_strategy = 'auto') # SMOTE 알고리즘, 비율 증가\n",
    "X_train_res, y_train_res = sm.fit_sample(X_train, y_train.ravel()) # Over Sampling 진행\n",
    "\n",
    "print(\"After OverSampling, counts of label '1': {}\".format(sum(y_train_res == 1)))\n",
    "print(\"After OverSampling, counts of label '0': {}\".format(sum(y_train_res == 0)))"
   ]
  },
  {
   "cell_type": "code",
   "execution_count": 18,
   "metadata": {
    "scrolled": false
   },
   "outputs": [
    {
     "name": "stdout",
     "output_type": "stream",
     "text": [
      "Before OverSampling, the shape of X_train: (54, 2)\n",
      "Before OverSampling, the shape of y_train: (54, 1)\n",
      "After OverSampling, the shape of X_train: (72, 2)\n",
      "After OverSampling, the shape of y_train: (72,)\n"
     ]
    }
   ],
   "source": [
    "print(\"Before OverSampling, the shape of X_train: {}\".format(X_train.shape)) # SMOTE 적용 이전 데이터 형태\n",
    "print(\"Before OverSampling, the shape of y_train: {}\".format(y_train.shape)) # SMOTE 적용 이전 데이터 형태\n",
    "print(\"After OverSampling, the shape of X_train: {}\".format(X_train_res.shape)) # SMOTE 적용 결과 확인\n",
    "print(\"After OverSampling, the shape of y_train: {}\".format(y_train_res.shape)) # SMOTE 적용 결과 확인"
   ]
  },
  {
   "cell_type": "markdown",
   "metadata": {},
   "source": [
    "# SVM"
   ]
  },
  {
   "cell_type": "code",
   "execution_count": 19,
   "metadata": {},
   "outputs": [],
   "source": [
    "features = X_train_res\n",
    "target = y_train_res"
   ]
  },
  {
   "cell_type": "code",
   "execution_count": 20,
   "metadata": {},
   "outputs": [],
   "source": [
    "from sklearn.svm import SVC\n",
    "from sklearn import svm, metrics\n",
    "import numpy as np\n",
    "import matplotlib.pyplot as plt\n",
    "\n",
    "svc = SVC(kernel = 'linear', class_weight = 'balanced', C = 1.0, random_state = 0)"
   ]
  },
  {
   "cell_type": "code",
   "execution_count": 21,
   "metadata": {},
   "outputs": [],
   "source": [
    "model = svc.fit(features, target) # SVM 모델 학습"
   ]
  },
  {
   "cell_type": "code",
   "execution_count": 22,
   "metadata": {},
   "outputs": [
    {
     "data": {
      "text/plain": [
       "array([[36,  0],\n",
       "       [ 0, 36]], dtype=int64)"
      ]
     },
     "execution_count": 22,
     "metadata": {},
     "output_type": "execute_result"
    }
   ],
   "source": [
    "from sklearn.metrics import confusion_matrix\n",
    "y_pred = svc.predict(features)\n",
    "confusion_matrix(target, y_pred)"
   ]
  },
  {
   "cell_type": "markdown",
   "metadata": {},
   "source": [
    "## kernel SVM 적합 및 비교"
   ]
  },
  {
   "cell_type": "markdown",
   "metadata": {},
   "source": [
    "- LinearSVC"
   ]
  },
  {
   "cell_type": "code",
   "execution_count": 23,
   "metadata": {},
   "outputs": [
    {
     "data": {
      "text/plain": [
       "array([[36,  0],\n",
       "       [ 0, 36]], dtype=int64)"
      ]
     },
     "execution_count": 23,
     "metadata": {},
     "output_type": "execute_result"
    }
   ],
   "source": [
    "clf = svm.LinearSVC(C = 1.0, max_iter = 10000)\n",
    "clf.fit(features, target)\n",
    "y_pred = clf.predict(features)\n",
    "confusion_matrix(target, y_pred)"
   ]
  },
  {
   "cell_type": "markdown",
   "metadata": {},
   "source": [
    "- radial basis function"
   ]
  },
  {
   "cell_type": "code",
   "execution_count": 24,
   "metadata": {},
   "outputs": [
    {
     "data": {
      "text/plain": [
       "array([[36,  0],\n",
       "       [ 0, 36]], dtype=int64)"
      ]
     },
     "execution_count": 24,
     "metadata": {},
     "output_type": "execute_result"
    }
   ],
   "source": [
    "clf = svm.SVC(kernel = 'rbf', gamma = 0.7, max_iter = 10000)\n",
    "clf.fit(features, target)\n",
    "y_pred = clf.predict(features)\n",
    "confusion_matrix(target, y_pred)"
   ]
  },
  {
   "cell_type": "markdown",
   "metadata": {},
   "source": [
    "- polynomial kernel"
   ]
  },
  {
   "cell_type": "code",
   "execution_count": 25,
   "metadata": {},
   "outputs": [
    {
     "data": {
      "text/plain": [
       "array([[36,  0],\n",
       "       [ 0, 36]], dtype=int64)"
      ]
     },
     "execution_count": 25,
     "metadata": {},
     "output_type": "execute_result"
    }
   ],
   "source": [
    "clf = svm.SVC(kernel = 'rbf',degree = 3, C = 0.1,gamma = 'auto')\n",
    "clf.fit(features, target)\n",
    "y_pred = clf.predict(features)\n",
    "confusion_matrix(target, y_pred)"
   ]
  },
  {
   "cell_type": "markdown",
   "metadata": {},
   "source": [
    "### 시각화"
   ]
  },
  {
   "cell_type": "code",
   "execution_count": 26,
   "metadata": {},
   "outputs": [],
   "source": [
    "# create Function (시각화 함수 생성)\n",
    "def make_meshgrid(x, y, h = .02):\n",
    "    x_min, x_max = x.min()-1, x.max() + 1\n",
    "    y_min, y_max = y.min()-1, y.max() + 1\n",
    "    xx, yy = np.meshgrid(np.arange(x_min, x_max, h),\n",
    "                        np.arange(y_min, y_max, h))\n",
    "    return xx, yy\n",
    "\n",
    "def plot_contours(ax, clf, xx, yy, **params):\n",
    "    Z = clf.predict(np.c_[xx.ravel(), yy.ravel()])\n",
    "    Z = Z.reshape(xx.shape)\n",
    "    out = ax.contourf(xx, yy, Z, **params)\n",
    "    return out"
   ]
  },
  {
   "cell_type": "code",
   "execution_count": 27,
   "metadata": {},
   "outputs": [],
   "source": [
    "# 모델 정의 및 피팅\n",
    "C = 1.0 # Regularization parameter\n",
    "models = (svm.SVC(kernel = 'linear', C=C),\n",
    "         svm.LinearSVC(C=C, max_iter = 10000),\n",
    "         svm.SVC(kernel = 'rbf', gamma = 0.7, C=C),\n",
    "         svm.SVC(kernel = 'poly', degree = 3, gamma = 'auto', C=C))\n",
    "models = (clf.fit(X, y) for clf in models)"
   ]
  },
  {
   "cell_type": "code",
   "execution_count": 28,
   "metadata": {},
   "outputs": [],
   "source": [
    "titles = ('SVC with linear kernel',\n",
    "         'LinearSVC (linear kernel)',\n",
    "         'SVC with RBF kernel',\n",
    "         'SVC with polynomial (degree 3) kernel')"
   ]
  },
  {
   "cell_type": "code",
   "execution_count": 29,
   "metadata": {},
   "outputs": [
    {
     "name": "stderr",
     "output_type": "stream",
     "text": [
      "c:\\users\\user\\anaconda3\\envs\\etri\\lib\\site-packages\\sklearn\\utils\\validation.py:63: DataConversionWarning: A column-vector y was passed when a 1d array was expected. Please change the shape of y to (n_samples, ), for example using ravel().\n",
      "  return f(*args, **kwargs)\n",
      "c:\\users\\user\\anaconda3\\envs\\etri\\lib\\site-packages\\sklearn\\utils\\validation.py:63: DataConversionWarning: A column-vector y was passed when a 1d array was expected. Please change the shape of y to (n_samples, ), for example using ravel().\n",
      "  return f(*args, **kwargs)\n",
      "c:\\users\\user\\anaconda3\\envs\\etri\\lib\\site-packages\\sklearn\\utils\\validation.py:63: DataConversionWarning: A column-vector y was passed when a 1d array was expected. Please change the shape of y to (n_samples, ), for example using ravel().\n",
      "  return f(*args, **kwargs)\n",
      "c:\\users\\user\\anaconda3\\envs\\etri\\lib\\site-packages\\sklearn\\utils\\validation.py:63: DataConversionWarning: A column-vector y was passed when a 1d array was expected. Please change the shape of y to (n_samples, ), for example using ravel().\n",
      "  return f(*args, **kwargs)\n"
     ]
    },
    {
     "data": {
      "image/png": "[encoded data removed]",
      "text/plain": [
       "<Figure size 432x288 with 4 Axes>"
      ]
     },
     "metadata": {},
     "output_type": "display_data"
    }
   ],
   "source": [
    "fig, sub = plt.subplots(2,2)\n",
    "plt.subplots_adjust(wspace = 0.4, hspace = 0.4)\n",
    "\n",
    "X0, X1 = X[:, 0], X[:, 1]\n",
    "xx, yy = make_meshgrid(X0, X1)\n",
    "\n",
    "for clf, title, ax in zip(models, titles, sub.flatten()):\n",
    "    plot_contours(ax, clf, xx, yy, cmap = plt.cm.coolwarm, alpha = 0.8)\n",
    "    ax.scatter(X0, X1, c = y, cmap=plt.cm.coolwarm, s = 20, edgecolors = 'k')\n",
    "    ax.set_xlim(xx.min(), xx.max())\n",
    "    #ax_set_ylim(yy.min(), yy.max())\n",
    "    ax.set_xlabel('Sepal length')\n",
    "    ax.set_ylabel('Sepal width')\n",
    "    ax.set_yticks(())\n",
    "    ax.set_xticks(())\n",
    "    ax.set_title(title)\n",
    "\n",
    "plt.show()"
   ]
  },
  {
   "cell_type": "markdown",
   "metadata": {},
   "source": [
    "## GridSearch"
   ]
  },
  {
   "cell_type": "code",
   "execution_count": 32,
   "metadata": {},
   "outputs": [
    {
     "name": "stdout",
     "output_type": "stream",
     "text": [
      "학습 데이터의 수 = 72\n",
      "학습기 = SVC(C=1, kernel='linear')\n",
      "정답률 = 1.0\n"
     ]
    }
   ],
   "source": [
    "from sklearn import svm, metrics, model_selection\n",
    "from sklearn.model_selection import GridSearchCV\n",
    "\n",
    "print(\"학습 데이터의 수 =\", len(target))\n",
    "\n",
    "# 그리드 서치 매개변수 설정\n",
    "params = [\n",
    "    {\"C\" : [1, 10, 100, 1000], \"kernel\" : [\"linear\"]},\n",
    "    {\"C\" : [1, 10, 100, 1000], \"kernel\" : [\"rbf\"], \"gamma\":[0.001, 0.0001]}\n",
    "]\n",
    "\n",
    "# 그리드 서치 수행\n",
    "clf = GridSearchCV(svm.SVC(), params, n_jobs = -1)\n",
    "clf.fit(features, target)\n",
    "print(\"학습기 =\", clf.best_estimator_)\n",
    "\n",
    "# 테스트 데이터 확인하기\n",
    "pre = clf.predict(X_test)\n",
    "ac_score = metrics.accuracy_score(pre, y_test)\n",
    "print(\"정답률 =\", ac_score)"
   ]
  },
  {
   "cell_type": "code",
   "execution_count": 30,
   "metadata": {},
   "outputs": [
    {
     "name": "stdout",
     "output_type": "stream",
     "text": [
      "정답률 =  1.0\n",
      "리포트 =\n",
      "               precision    recall  f1-score   support\n",
      "\n",
      "           0       1.00      1.00      1.00         2\n",
      "           1       1.00      1.00      1.00         4\n",
      "\n",
      "    accuracy                           1.00         6\n",
      "   macro avg       1.00      1.00      1.00         6\n",
      "weighted avg       1.00      1.00      1.00         6\n",
      "\n"
     ]
    }
   ],
   "source": [
    "# 모델 성능\n",
    "\n",
    "svc = SVC(kernel = 'linear', class_weight = 'balanced', C = 1.0, random_state = 0)\n",
    "model = svc.fit(features, target)\n",
    "\n",
    "pre = clf.predict(X_test)\n",
    "\n",
    "ac_score = metrics.accuracy_score(y_test, pre)\n",
    "cl_report = metrics.classification_report(y_test, pre)\n",
    "print(\"정답률 = \",ac_score)\n",
    "print(\"리포트 =\\n\", cl_report)"
   ]
  },
  {
   "cell_type": "code",
   "execution_count": 31,
   "metadata": {},
   "outputs": [
    {
     "data": {
      "text/plain": [
       "array([0], dtype=int64)"
      ]
     },
     "execution_count": 31,
     "metadata": {},
     "output_type": "execute_result"
    }
   ],
   "source": [
    "# Class 예측\n",
    "\n",
    "new_observation = [[1, -0.2]]\n",
    "svc.predict(new_observation)"
   ]
  }
 ],
 "metadata": {
  "kernelspec": {
   "display_name": "Python 3",
   "language": "python",
   "name": "python3"
  },
  "language_info": {
   "codemirror_mode": {
    "name": "ipython",
    "version": 3
   },
   "file_extension": ".py",
   "mimetype": "text/x-python",
   "name": "python",
   "nbconvert_exporter": "python",
   "pygments_lexer": "ipython3",
   "version": "3.7.9"
  }
 },
 "nbformat": 4,
 "nbformat_minor": 4
}
