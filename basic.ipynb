{
  "nbformat": 4,
  "nbformat_minor": 0,
  "metadata": {
    "colab": {
      "name": "basic.ipynb",
      "provenance": [],
      "collapsed_sections": [],
      "authorship_tag": "ABX9TyNOehg6WEi/P0QXka6DgHJp",
      "include_colab_link": true
    },
    "kernelspec": {
      "name": "python3",
      "display_name": "Python 3"
    }
  },
  "cells": [
    {
      "cell_type": "markdown",
      "metadata": {
        "id": "view-in-github",
        "colab_type": "text"
      },
      "source": [
        "<a href=\"https://colab.research.google.com/github/GeonKimdcu/machine_learning/blob/master/basic.ipynb\" target=\"_parent\"><img src=\"https://colab.research.google.com/assets/colab-badge.svg\" alt=\"Open In Colab\"/></a>"
      ]
    },
    {
      "cell_type": "code",
      "metadata": {
        "id": "zS5-QlfUThaU",
        "colab_type": "code",
        "colab": {
          "base_uri": "https://localhost:8080/",
          "height": 35
        },
        "outputId": "4ef7dc30-0384-4454-d086-cb6563e1855a"
      },
      "source": [
        "from google.colab import drive\n",
        "drive.mount('/content/drive')"
      ],
      "execution_count": 1,
      "outputs": [
        {
          "output_type": "stream",
          "text": [
            "Mounted at /content/drive\n"
          ],
          "name": "stdout"
        }
      ]
    },
    {
      "cell_type": "code",
      "metadata": {
        "id": "MJCbshugTh4F",
        "colab_type": "code",
        "colab": {
          "base_uri": "https://localhost:8080/",
          "height": 35
        },
        "outputId": "67f983e5-9414-43bf-92f4-17e9d2413c10"
      },
      "source": [
        "import os\n",
        "\n",
        "#change path\n",
        "root_dir = \"/content/drive/My Drive/\"\n",
        "base_dir = root_dir + 'kbo'\n",
        "os.chdir(base_dir)\n",
        "\n",
        "#mount google driver\n",
        "#from google.colab import drive\n",
        "#drive.mount('/content/gdrive', force_remount=True)\n",
        "#root_dir = \"/content/gdrive/My Drive/\"\n",
        "\n",
        "!pwd"
      ],
      "execution_count": 2,
      "outputs": [
        {
          "output_type": "stream",
          "text": [
            "/content/drive/My Drive/kbo\n"
          ],
          "name": "stdout"
        }
      ]
    },
    {
      "cell_type": "code",
      "metadata": {
        "id": "CGxK7vhPTh6a",
        "colab_type": "code",
        "colab": {}
      },
      "source": [
        ""
      ],
      "execution_count": null,
      "outputs": []
    },
    {
      "cell_type": "markdown",
      "metadata": {
        "id": "n8Qpo5m3U6ek",
        "colab_type": "text"
      },
      "source": [
        "# Chapter 02 파이썬 기본"
      ]
    },
    {
      "cell_type": "code",
      "metadata": {
        "id": "IVmUBCDPU-Kr",
        "colab_type": "code",
        "colab": {}
      },
      "source": [
        ""
      ],
      "execution_count": null,
      "outputs": []
    },
    {
      "cell_type": "markdown",
      "metadata": {
        "id": "lGvY8yhSU-nt",
        "colab_type": "text"
      },
      "source": [
        "## 2.1 사칙 연산"
      ]
    },
    {
      "cell_type": "code",
      "metadata": {
        "id": "iv6IqdsdVBdl",
        "colab_type": "code",
        "colab": {}
      },
      "source": [
        ""
      ],
      "execution_count": null,
      "outputs": []
    },
    {
      "cell_type": "markdown",
      "metadata": {
        "id": "N_6rywQmVB5G",
        "colab_type": "text"
      },
      "source": [
        "## 2.2 변수"
      ]
    },
    {
      "cell_type": "code",
      "metadata": {
        "id": "VWu11LLxVEfp",
        "colab_type": "code",
        "colab": {}
      },
      "source": [
        ""
      ],
      "execution_count": null,
      "outputs": []
    },
    {
      "cell_type": "markdown",
      "metadata": {
        "id": "mpFNnAdNVE7R",
        "colab_type": "text"
      },
      "source": [
        "## 2.3 자료형"
      ]
    },
    {
      "cell_type": "code",
      "metadata": {
        "id": "l9v1xLMkVFzk",
        "colab_type": "code",
        "colab": {}
      },
      "source": [
        ""
      ],
      "execution_count": null,
      "outputs": []
    },
    {
      "cell_type": "markdown",
      "metadata": {
        "id": "s9w3-AgQVGOI",
        "colab_type": "text"
      },
      "source": [
        "## 2.4 print문"
      ]
    },
    {
      "cell_type": "code",
      "metadata": {
        "id": "_6085UIMVI0o",
        "colab_type": "code",
        "colab": {}
      },
      "source": [
        ""
      ],
      "execution_count": null,
      "outputs": []
    },
    {
      "cell_type": "markdown",
      "metadata": {
        "id": "8DLrseUZVJSk",
        "colab_type": "text"
      },
      "source": [
        "## 2.5 list"
      ]
    },
    {
      "cell_type": "code",
      "metadata": {
        "id": "uRByAsexVLXM",
        "colab_type": "code",
        "colab": {}
      },
      "source": [
        ""
      ],
      "execution_count": null,
      "outputs": []
    },
    {
      "cell_type": "markdown",
      "metadata": {
        "id": "rtAW0uHYa0im",
        "colab_type": "text"
      },
      "source": [
        "## 2.6 tuple"
      ]
    },
    {
      "cell_type": "code",
      "metadata": {
        "id": "J0pzqPfMa2IE",
        "colab_type": "code",
        "colab": {}
      },
      "source": [
        ""
      ],
      "execution_count": null,
      "outputs": []
    },
    {
      "cell_type": "markdown",
      "metadata": {
        "id": "6FuSrBpojTy7",
        "colab_type": "text"
      },
      "source": [
        "## 2.7 if문"
      ]
    },
    {
      "cell_type": "code",
      "metadata": {
        "id": "G8yfxd1EjVI1",
        "colab_type": "code",
        "colab": {
          "base_uri": "https://localhost:8080/",
          "height": 52
        },
        "outputId": "2043dcdc-2782-426d-83f0-62dc0c6d3919"
      },
      "source": [
        "x = 11\n",
        "if x > 10:\n",
        "  print('x is')\n",
        "  print('      larger than 10.')\n",
        "else :\n",
        "  print('x is smaller than 11')"
      ],
      "execution_count": 9,
      "outputs": [
        {
          "output_type": "stream",
          "text": [
            "x is\n",
            "      larger than 10.\n"
          ],
          "name": "stdout"
        }
      ]
    },
    {
      "cell_type": "markdown",
      "metadata": {
        "id": "hxmsZEZPjVoh",
        "colab_type": "text"
      },
      "source": [
        "## 2.8 for문"
      ]
    },
    {
      "cell_type": "code",
      "metadata": {
        "id": "laKJliBYjYHh",
        "colab_type": "code",
        "colab": {}
      },
      "source": [
        ""
      ],
      "execution_count": null,
      "outputs": []
    }
  ]
}